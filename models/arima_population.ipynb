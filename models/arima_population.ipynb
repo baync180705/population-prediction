{
 "cells": [
  {
   "cell_type": "code",
   "execution_count": 26,
   "metadata": {},
   "outputs": [],
   "source": [
    "import pandas as pd\n",
    "import numpy as np\n",
    "import matplotlib.pyplot as plt\n",
    "\n",
    "data = pd.read_csv(r'C:\\Users\\Arnav Agarwal\\Desktop\\population-prediction\\data\\indian population new.csv')"
   ]
  },
  {
   "cell_type": "code",
   "execution_count": 27,
   "metadata": {},
   "outputs": [],
   "source": [
    "useful_data = data[['Year','Population','% Increase in Population']]"
   ]
  },
  {
   "cell_type": "code",
   "execution_count": 28,
   "metadata": {},
   "outputs": [],
   "source": [
    "def fixdata(string):\n",
    "    ans = \"\"\n",
    "    for i in string:\n",
    "        if i != ',':\n",
    "            ans += i \n",
    "    return int(ans)"
   ]
  },
  {
   "cell_type": "code",
   "execution_count": 32,
   "metadata": {},
   "outputs": [
    {
     "name": "stderr",
     "output_type": "stream",
     "text": [
      "C:\\Users\\Arnav Agarwal\\AppData\\Local\\Temp\\ipykernel_28508\\3923077264.py:1: SettingWithCopyWarning: \n",
      "A value is trying to be set on a copy of a slice from a DataFrame.\n",
      "Try using .loc[row_indexer,col_indexer] = value instead\n",
      "\n",
      "See the caveats in the documentation: https://pandas.pydata.org/pandas-docs/stable/user_guide/indexing.html#returning-a-view-versus-a-copy\n",
      "  useful_data['Population'] = useful_data['Population'].apply(fixdata)\n"
     ]
    }
   ],
   "source": [
    "useful_data['Population'] = useful_data['Population'].apply(fixdata)"
   ]
  },
  {
   "cell_type": "code",
   "execution_count": 33,
   "metadata": {},
   "outputs": [
    {
     "data": {
      "text/plain": [
       "(73, 3)"
      ]
     },
     "execution_count": 33,
     "metadata": {},
     "output_type": "execute_result"
    }
   ],
   "source": [
    "useful_data.shape"
   ]
  },
  {
   "cell_type": "code",
   "execution_count": 34,
   "metadata": {},
   "outputs": [
    {
     "data": {
      "text/plain": [
       "<BarContainer object of 25 artists>"
      ]
     },
     "execution_count": 34,
     "metadata": {},
     "output_type": "execute_result"
    },
    {
     "data": {
      "image/png": "[encoded data removed]",
      "text/plain": [
       "<Figure size 640x480 with 1 Axes>"
      ]
     },
     "metadata": {},
     "output_type": "display_data"
    }
   ],
   "source": [
    "plt.bar(useful_data['Year'][::3],useful_data['Population'][::3])"
   ]
  },
  {
   "cell_type": "markdown",
   "metadata": {},
   "source": [
    "ARIMA MODEL"
   ]
  },
  {
   "cell_type": "code",
   "execution_count": 38,
   "metadata": {},
   "outputs": [],
   "source": [
    "from statsmodels.tsa.arima.model import ARIMA\n",
    "X_train,X_test = pd.Series(useful_data['Population'][:70]) , pd.Series(useful_data['Population'][70:])"
   ]
  },
  {
   "cell_type": "code",
   "execution_count": 45,
   "metadata": {},
   "outputs": [
    {
     "name": "stdout",
     "output_type": "stream",
     "text": [
      "[np.float64(813284947.0571429), np.float64(821497653.8169018), np.float64(829637461.9861109)]\n",
      "[1396387127 1407563842 1417173173]\n"
     ]
    }
   ],
   "source": [
    "train_const = [x for x in X_train]\n",
    "pred_list = []\n",
    "for j in range(len(X_test)):\n",
    "    model = ARIMA(train_const)\n",
    "    model_fit = model.fit()\n",
    "    output = model_fit.forecast()\n",
    "    pred = output[0]\n",
    "    pred_list.append(pred)\n",
    "    actual = X_test.iloc[0]\n",
    "    train_const.append(X_test.iloc[j])\n",
    "\n",
    "print(pred_list)\n",
    "print(X_test.values)"
   ]
  }
 ],
 "metadata": {
  "kernelspec": {
   "display_name": "Python 3",
   "language": "python",
   "name": "python3"
  },
  "language_info": {
   "codemirror_mode": {
    "name": "ipython",
    "version": 3
   },
   "file_extension": ".py",
   "mimetype": "text/x-python",
   "name": "python",
   "nbconvert_exporter": "python",
   "pygments_lexer": "ipython3",
   "version": "3.12.9"
  }
 },
 "nbformat": 4,
 "nbformat_minor": 2
}
